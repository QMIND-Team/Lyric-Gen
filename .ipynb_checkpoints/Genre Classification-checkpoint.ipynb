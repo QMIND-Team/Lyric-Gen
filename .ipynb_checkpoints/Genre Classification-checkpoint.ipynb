{
 "cells": [
  {
   "cell_type": "code",
   "execution_count": 2,
   "metadata": {},
   "outputs": [
    {
     "name": "stderr",
     "output_type": "stream",
     "text": [
      "Using TensorFlow backend.\n"
     ]
    }
   ],
   "source": [
    "# feature extractoring and preprocessing data\n",
    "import librosa\n",
    "import pandas as pd\n",
    "import numpy as np\n",
    "import matplotlib.pyplot as plt\n",
    "%matplotlib inline\n",
    "import os\n",
    "from PIL import Image\n",
    "import pathlib\n",
    "import csv\n",
    "\n",
    "# Preprocessing\n",
    "from sklearn.model_selection import train_test_split\n",
    "from sklearn.preprocessing import LabelEncoder, StandardScaler\n",
    "\n",
    "#Keras\n",
    "import keras\n",
    "\n",
    "import warnings\n",
    "warnings.filterwarnings('ignore')"
   ]
  },
  {
   "cell_type": "code",
   "execution_count": null,
   "metadata": {},
   "outputs": [
    {
     "data": {
      "text/plain": [
       "<Figure size 720x720 with 0 Axes>"
      ]
     },
     "metadata": {},
     "output_type": "display_data"
    }
   ],
   "source": [
    "cmap = plt.get_cmap('inferno')\n",
    "\n",
    "plt.figure(figsize=(10,10))\n",
    "genres = 'blues classical country disco hiphop jazz metal pop reggae rock'.split()\n",
    "for g in genres:\n",
    "    pathlib.Path(f'img_data/{g}').mkdir(parents=True, exist_ok=True)     \n",
    "    for filename in os.listdir(f'./genres/{g}'):\n",
    "        songname = f'./genres/{g}/{filename}'\n",
    "        y, sr = librosa.load(songname, mono=True, duration=5)\n",
    "        plt.specgram(y, NFFT=2048, Fs=2, Fc=0, noverlap=128, cmap=cmap, sides='default', mode='default', scale='dB');\n",
    "        plt.axis('off');\n",
    "        plt.savefig(f'img_data/{g}/{filename[:-3].replace(\".\", \"\")}.png')\n",
    "        plt.clf()"
   ]
  },
  {
   "cell_type": "code",
   "execution_count": 2,
   "metadata": {},
   "outputs": [],
   "source": [
    "header = 'filename chroma_stft rmse spectral_centroid spectral_bandwidth rolloff zero_crossing_rate'\n",
    "for i in range(1, 21):\n",
    "    header += f' mfcc{i}'\n",
    "header += ' label'\n",
    "header = header.split()"
   ]
  },
  {
   "cell_type": "code",
   "execution_count": 3,
   "metadata": {},
   "outputs": [
    {
     "name": "stdout",
     "output_type": "stream",
     "text": [
      "working on blues...\n",
      "working on classical...\n",
      "working on country...\n",
      "working on disco...\n",
      "working on hiphop...\n",
      "working on jazz...\n",
      "working on metal...\n",
      "working on pop...\n",
      "working on reggae...\n",
      "working on rock...\n"
     ]
    }
   ],
   "source": [
    "\n",
    "file = open('data.csv', 'w', newline='')\n",
    "with file:\n",
    "    writer = csv.writer(file)\n",
    "    writer.writerow(header)\n",
    "genres = 'blues classical country disco hiphop jazz metal pop reggae rock'.split()\n",
    "for g in genres:\n",
    "    print('working on ' + g + '...')\n",
    "    \n",
    "    for filename in os.listdir(f'./genres/{g}'):\n",
    "        songname = f'./genres/{g}/{filename}'\n",
    "        y, sr = librosa.load(songname, mono=True, duration=30)\n",
    "        chroma_stft = librosa.feature.chroma_stft(y=y, sr=sr)\n",
    "        rmse = librosa.feature.rmse(y=y)\n",
    "        spec_cent = librosa.feature.spectral_centroid(y=y, sr=sr)\n",
    "        spec_bw = librosa.feature.spectral_bandwidth(y=y, sr=sr)\n",
    "        rolloff = librosa.feature.spectral_rolloff(y=y, sr=sr)\n",
    "        zcr = librosa.feature.zero_crossing_rate(y)\n",
    "        mfcc = librosa.feature.mfcc(y=y, sr=sr)\n",
    "        to_append = f'{filename} {np.mean(chroma_stft)} {np.mean(rmse)} {np.mean(spec_cent)} {np.mean(spec_bw)} {np.mean(rolloff)} {np.mean(zcr)}'    \n",
    "        for e in mfcc:\n",
    "            to_append += f' {np.mean(e)}'\n",
    "        to_append += f' {g}'\n",
    "        file = open('data.csv', 'a', newline='')\n",
    "        with file:\n",
    "            writer = csv.writer(file)\n",
    "            writer.writerow(to_append.split())"
   ]
  },
  {
   "cell_type": "code",
   "execution_count": 2,
   "metadata": {},
   "outputs": [
    {
     "data": {
      "text/html": [
       "<div>\n",
       "<style scoped>\n",
       "    .dataframe tbody tr th:only-of-type {\n",
       "        vertical-align: middle;\n",
       "    }\n",
       "\n",
       "    .dataframe tbody tr th {\n",
       "        vertical-align: top;\n",
       "    }\n",
       "\n",
       "    .dataframe thead th {\n",
       "        text-align: right;\n",
       "    }\n",
       "</style>\n",
       "<table border=\"1\" class=\"dataframe\">\n",
       "  <thead>\n",
       "    <tr style=\"text-align: right;\">\n",
       "      <th></th>\n",
       "      <th>filename</th>\n",
       "      <th>chroma_stft</th>\n",
       "      <th>rmse</th>\n",
       "      <th>spectral_centroid</th>\n",
       "      <th>spectral_bandwidth</th>\n",
       "      <th>rolloff</th>\n",
       "      <th>zero_crossing_rate</th>\n",
       "      <th>mfcc1</th>\n",
       "      <th>mfcc2</th>\n",
       "      <th>mfcc3</th>\n",
       "      <th>...</th>\n",
       "      <th>mfcc12</th>\n",
       "      <th>mfcc13</th>\n",
       "      <th>mfcc14</th>\n",
       "      <th>mfcc15</th>\n",
       "      <th>mfcc16</th>\n",
       "      <th>mfcc17</th>\n",
       "      <th>mfcc18</th>\n",
       "      <th>mfcc19</th>\n",
       "      <th>mfcc20</th>\n",
       "      <th>label</th>\n",
       "    </tr>\n",
       "  </thead>\n",
       "  <tbody>\n",
       "    <tr>\n",
       "      <td>0</td>\n",
       "      <td>blues.00000.au</td>\n",
       "      <td>0.349943</td>\n",
       "      <td>0.130225</td>\n",
       "      <td>1784.420446</td>\n",
       "      <td>2002.650192</td>\n",
       "      <td>3806.485316</td>\n",
       "      <td>0.083066</td>\n",
       "      <td>-113.596742</td>\n",
       "      <td>121.557302</td>\n",
       "      <td>-19.158825</td>\n",
       "      <td>...</td>\n",
       "      <td>8.810668</td>\n",
       "      <td>-3.667367</td>\n",
       "      <td>5.751690</td>\n",
       "      <td>-5.162761</td>\n",
       "      <td>0.750947</td>\n",
       "      <td>-1.691937</td>\n",
       "      <td>-0.409954</td>\n",
       "      <td>-2.300208</td>\n",
       "      <td>1.219928</td>\n",
       "      <td>blues</td>\n",
       "    </tr>\n",
       "    <tr>\n",
       "      <td>1</td>\n",
       "      <td>blues.00001.au</td>\n",
       "      <td>0.340983</td>\n",
       "      <td>0.095918</td>\n",
       "      <td>1529.835316</td>\n",
       "      <td>2038.617579</td>\n",
       "      <td>3548.820207</td>\n",
       "      <td>0.056044</td>\n",
       "      <td>-207.556796</td>\n",
       "      <td>124.006717</td>\n",
       "      <td>8.930562</td>\n",
       "      <td>...</td>\n",
       "      <td>5.376802</td>\n",
       "      <td>-2.239119</td>\n",
       "      <td>4.216963</td>\n",
       "      <td>-6.012273</td>\n",
       "      <td>0.936109</td>\n",
       "      <td>-0.716537</td>\n",
       "      <td>0.293875</td>\n",
       "      <td>-0.287431</td>\n",
       "      <td>0.531573</td>\n",
       "      <td>blues</td>\n",
       "    </tr>\n",
       "    <tr>\n",
       "      <td>2</td>\n",
       "      <td>blues.00002.au</td>\n",
       "      <td>0.363603</td>\n",
       "      <td>0.175573</td>\n",
       "      <td>1552.481958</td>\n",
       "      <td>1747.165985</td>\n",
       "      <td>3040.514948</td>\n",
       "      <td>0.076301</td>\n",
       "      <td>-90.754394</td>\n",
       "      <td>140.459907</td>\n",
       "      <td>-29.109965</td>\n",
       "      <td>...</td>\n",
       "      <td>5.789265</td>\n",
       "      <td>-8.905224</td>\n",
       "      <td>-1.083720</td>\n",
       "      <td>-9.218359</td>\n",
       "      <td>2.455805</td>\n",
       "      <td>-7.726901</td>\n",
       "      <td>-1.815724</td>\n",
       "      <td>-3.433434</td>\n",
       "      <td>-2.226821</td>\n",
       "      <td>blues</td>\n",
       "    </tr>\n",
       "    <tr>\n",
       "      <td>3</td>\n",
       "      <td>blues.00003.au</td>\n",
       "      <td>0.404779</td>\n",
       "      <td>0.141191</td>\n",
       "      <td>1070.119953</td>\n",
       "      <td>1596.333948</td>\n",
       "      <td>2185.028454</td>\n",
       "      <td>0.033309</td>\n",
       "      <td>-199.431144</td>\n",
       "      <td>150.099218</td>\n",
       "      <td>5.647594</td>\n",
       "      <td>...</td>\n",
       "      <td>6.087676</td>\n",
       "      <td>-2.476420</td>\n",
       "      <td>-1.073890</td>\n",
       "      <td>-2.874777</td>\n",
       "      <td>0.780976</td>\n",
       "      <td>-3.316932</td>\n",
       "      <td>0.637981</td>\n",
       "      <td>-0.619690</td>\n",
       "      <td>-3.408233</td>\n",
       "      <td>blues</td>\n",
       "    </tr>\n",
       "    <tr>\n",
       "      <td>4</td>\n",
       "      <td>blues.00004.au</td>\n",
       "      <td>0.308590</td>\n",
       "      <td>0.091563</td>\n",
       "      <td>1835.494603</td>\n",
       "      <td>1748.362448</td>\n",
       "      <td>3580.945013</td>\n",
       "      <td>0.101500</td>\n",
       "      <td>-160.266031</td>\n",
       "      <td>126.198800</td>\n",
       "      <td>-35.605448</td>\n",
       "      <td>...</td>\n",
       "      <td>-2.806385</td>\n",
       "      <td>-6.934122</td>\n",
       "      <td>-7.558619</td>\n",
       "      <td>-9.173552</td>\n",
       "      <td>-4.512166</td>\n",
       "      <td>-5.453538</td>\n",
       "      <td>-0.924162</td>\n",
       "      <td>-4.409333</td>\n",
       "      <td>-11.703781</td>\n",
       "      <td>blues</td>\n",
       "    </tr>\n",
       "  </tbody>\n",
       "</table>\n",
       "<p>5 rows × 28 columns</p>\n",
       "</div>"
      ],
      "text/plain": [
       "         filename  chroma_stft      rmse  spectral_centroid  \\\n",
       "0  blues.00000.au     0.349943  0.130225        1784.420446   \n",
       "1  blues.00001.au     0.340983  0.095918        1529.835316   \n",
       "2  blues.00002.au     0.363603  0.175573        1552.481958   \n",
       "3  blues.00003.au     0.404779  0.141191        1070.119953   \n",
       "4  blues.00004.au     0.308590  0.091563        1835.494603   \n",
       "\n",
       "   spectral_bandwidth      rolloff  zero_crossing_rate       mfcc1  \\\n",
       "0         2002.650192  3806.485316            0.083066 -113.596742   \n",
       "1         2038.617579  3548.820207            0.056044 -207.556796   \n",
       "2         1747.165985  3040.514948            0.076301  -90.754394   \n",
       "3         1596.333948  2185.028454            0.033309 -199.431144   \n",
       "4         1748.362448  3580.945013            0.101500 -160.266031   \n",
       "\n",
       "        mfcc2      mfcc3  ...    mfcc12    mfcc13    mfcc14    mfcc15  \\\n",
       "0  121.557302 -19.158825  ...  8.810668 -3.667367  5.751690 -5.162761   \n",
       "1  124.006717   8.930562  ...  5.376802 -2.239119  4.216963 -6.012273   \n",
       "2  140.459907 -29.109965  ...  5.789265 -8.905224 -1.083720 -9.218359   \n",
       "3  150.099218   5.647594  ...  6.087676 -2.476420 -1.073890 -2.874777   \n",
       "4  126.198800 -35.605448  ... -2.806385 -6.934122 -7.558619 -9.173552   \n",
       "\n",
       "     mfcc16    mfcc17    mfcc18    mfcc19     mfcc20  label  \n",
       "0  0.750947 -1.691937 -0.409954 -2.300208   1.219928  blues  \n",
       "1  0.936109 -0.716537  0.293875 -0.287431   0.531573  blues  \n",
       "2  2.455805 -7.726901 -1.815724 -3.433434  -2.226821  blues  \n",
       "3  0.780976 -3.316932  0.637981 -0.619690  -3.408233  blues  \n",
       "4 -4.512166 -5.453538 -0.924162 -4.409333 -11.703781  blues  \n",
       "\n",
       "[5 rows x 28 columns]"
      ]
     },
     "execution_count": 2,
     "metadata": {},
     "output_type": "execute_result"
    }
   ],
   "source": [
    "data = pd.read_csv('data.csv')\n",
    "data.head()"
   ]
  },
  {
   "cell_type": "code",
   "execution_count": 3,
   "metadata": {},
   "outputs": [
    {
     "data": {
      "text/plain": [
       "(1000, 28)"
      ]
     },
     "execution_count": 3,
     "metadata": {},
     "output_type": "execute_result"
    }
   ],
   "source": [
    "data.shape"
   ]
  },
  {
   "cell_type": "code",
   "execution_count": 4,
   "metadata": {},
   "outputs": [],
   "source": [
    "# Dropping unneccesary columns\n",
    "data = data.drop(['filename'],axis=1)"
   ]
  },
  {
   "cell_type": "code",
   "execution_count": 5,
   "metadata": {},
   "outputs": [],
   "source": [
    "genre_list = data.iloc[:, -1]\n",
    "encoder = LabelEncoder()\n",
    "y = encoder.fit_transform(genre_list)"
   ]
  },
  {
   "cell_type": "code",
   "execution_count": 6,
   "metadata": {},
   "outputs": [],
   "source": [
    "scaler = StandardScaler()\n",
    "x = scaler.fit_transform(np.array(data.iloc[:, :-1], dtype = float))"
   ]
  },
  {
   "cell_type": "code",
   "execution_count": 33,
   "metadata": {},
   "outputs": [],
   "source": [
    "x_train, x_test, y_train, y_test = train_test_split(x, y, test_size=0.2)"
   ]
  },
  {
   "cell_type": "code",
   "execution_count": 47,
   "metadata": {},
   "outputs": [],
   "source": [
    "from keras import models\n",
    "from keras import layers\n",
    "\n",
    "model = models.Sequential()\n",
    "model.add(layers.Dense(256, activation='relu', input_shape=(x_train.shape[1],)))\n",
    "model.add(layers.Dropout(0.2))\n",
    "model.add(layers.Dense(128, activation='relu'))\n",
    "model.add(layers.Dense(64, activation='relu'))\n",
    "model.add(layers.Dense(10, activation='softmax'))\n",
    "\n",
    "model.compile(optimizer='adam',\n",
    "              loss='sparse_categorical_crossentropy',\n",
    "              metrics=['accuracy'])"
   ]
  },
  {
   "cell_type": "code",
   "execution_count": 48,
   "metadata": {},
   "outputs": [
    {
     "name": "stdout",
     "output_type": "stream",
     "text": [
      "Model: \"sequential_6\"\n",
      "_________________________________________________________________\n",
      "Layer (type)                 Output Shape              Param #   \n",
      "=================================================================\n",
      "dense_22 (Dense)             (None, 256)               6912      \n",
      "_________________________________________________________________\n",
      "dropout_2 (Dropout)          (None, 256)               0         \n",
      "_________________________________________________________________\n",
      "dense_23 (Dense)             (None, 128)               32896     \n",
      "_________________________________________________________________\n",
      "dense_24 (Dense)             (None, 64)                8256      \n",
      "_________________________________________________________________\n",
      "dense_25 (Dense)             (None, 10)                650       \n",
      "=================================================================\n",
      "Total params: 48,714\n",
      "Trainable params: 48,714\n",
      "Non-trainable params: 0\n",
      "_________________________________________________________________\n"
     ]
    }
   ],
   "source": [
    "model.summary()"
   ]
  },
  {
   "cell_type": "code",
   "execution_count": 49,
   "metadata": {},
   "outputs": [
    {
     "name": "stdout",
     "output_type": "stream",
     "text": [
      "Train on 800 samples, validate on 200 samples\n",
      "Epoch 1/20\n",
      "800/800 [==============================] - 1s 1ms/step - loss: 2.2025 - accuracy: 0.2062 - val_loss: 2.0508 - val_accuracy: 0.3500\n",
      "Epoch 2/20\n",
      "800/800 [==============================] - 0s 59us/step - loss: 1.9381 - accuracy: 0.3713 - val_loss: 1.8600 - val_accuracy: 0.3350\n",
      "Epoch 3/20\n",
      "800/800 [==============================] - 0s 46us/step - loss: 1.7109 - accuracy: 0.3988 - val_loss: 1.6846 - val_accuracy: 0.3600\n",
      "Epoch 4/20\n",
      "800/800 [==============================] - 0s 66us/step - loss: 1.5222 - accuracy: 0.4338 - val_loss: 1.5561 - val_accuracy: 0.4100\n",
      "Epoch 5/20\n",
      "800/800 [==============================] - 0s 48us/step - loss: 1.3943 - accuracy: 0.5300 - val_loss: 1.4493 - val_accuracy: 0.4800\n",
      "Epoch 6/20\n",
      "800/800 [==============================] - 0s 69us/step - loss: 1.2819 - accuracy: 0.5512 - val_loss: 1.3824 - val_accuracy: 0.4650\n",
      "Epoch 7/20\n",
      "800/800 [==============================] - 0s 50us/step - loss: 1.1875 - accuracy: 0.5900 - val_loss: 1.3140 - val_accuracy: 0.5350\n",
      "Epoch 8/20\n",
      "800/800 [==============================] - 0s 59us/step - loss: 1.1135 - accuracy: 0.6225 - val_loss: 1.2685 - val_accuracy: 0.5500\n",
      "Epoch 9/20\n",
      "800/800 [==============================] - 0s 63us/step - loss: 1.0496 - accuracy: 0.6350 - val_loss: 1.2408 - val_accuracy: 0.5650\n",
      "Epoch 10/20\n",
      "800/800 [==============================] - 0s 54us/step - loss: 1.0075 - accuracy: 0.6700 - val_loss: 1.2176 - val_accuracy: 0.5650\n",
      "Epoch 11/20\n",
      "800/800 [==============================] - 0s 55us/step - loss: 0.9530 - accuracy: 0.6925 - val_loss: 1.1969 - val_accuracy: 0.5700\n",
      "Epoch 12/20\n",
      "800/800 [==============================] - 0s 60us/step - loss: 0.8966 - accuracy: 0.6975 - val_loss: 1.1583 - val_accuracy: 0.5900\n",
      "Epoch 13/20\n",
      "800/800 [==============================] - 0s 44us/step - loss: 0.8674 - accuracy: 0.6988 - val_loss: 1.1237 - val_accuracy: 0.6150\n",
      "Epoch 14/20\n",
      "800/800 [==============================] - 0s 75us/step - loss: 0.8470 - accuracy: 0.7100 - val_loss: 1.1081 - val_accuracy: 0.5900\n",
      "Epoch 15/20\n",
      "800/800 [==============================] - 0s 60us/step - loss: 0.8216 - accuracy: 0.7138 - val_loss: 1.1303 - val_accuracy: 0.6050\n",
      "Epoch 16/20\n",
      "800/800 [==============================] - 0s 83us/step - loss: 0.7669 - accuracy: 0.7500 - val_loss: 1.0871 - val_accuracy: 0.6300\n",
      "Epoch 17/20\n",
      "800/800 [==============================] - 0s 79us/step - loss: 0.7489 - accuracy: 0.7400 - val_loss: 1.1056 - val_accuracy: 0.6200\n",
      "Epoch 18/20\n",
      "800/800 [==============================] - 0s 44us/step - loss: 0.7126 - accuracy: 0.7613 - val_loss: 1.0985 - val_accuracy: 0.6350\n",
      "Epoch 19/20\n",
      "800/800 [==============================] - 0s 109us/step - loss: 0.7014 - accuracy: 0.7538 - val_loss: 1.0898 - val_accuracy: 0.6450\n",
      "Epoch 20/20\n",
      "800/800 [==============================] - 0s 40us/step - loss: 0.6677 - accuracy: 0.7850 - val_loss: 1.1003 - val_accuracy: 0.6250\n"
     ]
    }
   ],
   "source": [
    "history = model.fit(x_train, y_train, epochs=20, batch_size=128, validation_data=(x_test, y_test))"
   ]
  },
  {
   "cell_type": "code",
   "execution_count": 50,
   "metadata": {},
   "outputs": [
    {
     "name": "stdout",
     "output_type": "stream",
     "text": [
      "200/200 [==============================] - 0s 225us/step\n"
     ]
    }
   ],
   "source": [
    "results = model.evaluate(x_test, y_test)"
   ]
  },
  {
   "cell_type": "code",
   "execution_count": 51,
   "metadata": {},
   "outputs": [
    {
     "data": {
      "image/png": "[encoded data removed]",
      "text/plain": [
       "<Figure size 432x288 with 1 Axes>"
      ]
     },
     "metadata": {
      "needs_background": "light"
     },
     "output_type": "display_data"
    }
   ],
   "source": [
    "# summarize history for accuracy\n",
    "plt.plot(history.history['accuracy'])\n",
    "plt.plot(history.history['val_accuracy'])\n",
    "plt.title('model accuracy')\n",
    "plt.ylabel('accuracy')\n",
    "plt.xlabel('epoch')\n",
    "plt.legend(['train', 'test'], loc='upper left')\n",
    "plt.show()"
   ]
  },
  {
   "cell_type": "code",
   "execution_count": 52,
   "metadata": {},
   "outputs": [
    {
     "data": {
      "image/png": "[encoded data removed]",
      "text/plain": [
       "<Figure size 432x288 with 1 Axes>"
      ]
     },
     "metadata": {
      "needs_background": "light"
     },
     "output_type": "display_data"
    }
   ],
   "source": [
    "# summarize history for loss\n",
    "plt.plot(history.history['loss'])\n",
    "plt.plot(history.history['val_loss'])\n",
    "plt.title('model loss')\n",
    "plt.ylabel('loss')\n",
    "plt.xlabel('epoch')\n",
    "plt.legend(['train', 'test'], loc='upper left')\n",
    "plt.show()"
   ]
  },
  {
   "cell_type": "code",
   "execution_count": 14,
   "metadata": {},
   "outputs": [
    {
     "data": {
      "text/plain": [
       "[1.239587218761444, 0.6299999952316284]"
      ]
     },
     "execution_count": 14,
     "metadata": {},
     "output_type": "execute_result"
    }
   ],
   "source": [
    "results"
   ]
  },
  {
   "cell_type": "code",
   "execution_count": 15,
   "metadata": {},
   "outputs": [
    {
     "data": {
      "text/plain": [
       "3"
      ]
     },
     "execution_count": 15,
     "metadata": {},
     "output_type": "execute_result"
    }
   ],
   "source": [
    "predictions = model.predict(x_test)\n",
    "np.argmax(predictions[0])"
   ]
  },
  {
   "cell_type": "code",
   "execution_count": 16,
   "metadata": {},
   "outputs": [
    {
     "data": {
      "text/plain": [
       "600"
      ]
     },
     "execution_count": 16,
     "metadata": {},
     "output_type": "execute_result"
    }
   ],
   "source": [
    "x_val = x_train[:200]\n",
    "partial_x_train = x_train[200:]\n",
    "\n",
    "y_val = y_train[:200]\n",
    "partial_y_train = y_train[200:]\n",
    "\n",
    "len(partial_y_train)"
   ]
  },
  {
   "cell_type": "code",
   "execution_count": 17,
   "metadata": {},
   "outputs": [
    {
     "name": "stdout",
     "output_type": "stream",
     "text": [
      "Train on 600 samples, validate on 200 samples\n",
      "Epoch 1/30\n",
      "600/600 [==============================] - 1s 2ms/step - loss: 2.2815 - accuracy: 0.1317 - val_loss: 2.1307 - val_accuracy: 0.3100\n",
      "Epoch 2/30\n",
      "600/600 [==============================] - 0s 38us/step - loss: 2.1032 - accuracy: 0.3383 - val_loss: 1.9863 - val_accuracy: 0.3300\n",
      "Epoch 3/30\n",
      "600/600 [==============================] - 0s 38us/step - loss: 1.9561 - accuracy: 0.3533 - val_loss: 1.8602 - val_accuracy: 0.3400\n",
      "Epoch 4/30\n",
      "600/600 [==============================] - 0s 75us/step - loss: 1.8157 - accuracy: 0.3683 - val_loss: 1.7459 - val_accuracy: 0.3600\n",
      "Epoch 5/30\n",
      "600/600 [==============================] - 0s 72us/step - loss: 1.6793 - accuracy: 0.3933 - val_loss: 1.6527 - val_accuracy: 0.3900\n",
      "Epoch 6/30\n",
      "600/600 [==============================] - 0s 52us/step - loss: 1.5529 - accuracy: 0.4550 - val_loss: 1.5670 - val_accuracy: 0.4150\n",
      "Epoch 7/30\n",
      "600/600 [==============================] - 0s 47us/step - loss: 1.4385 - accuracy: 0.5083 - val_loss: 1.4786 - val_accuracy: 0.4600\n",
      "Epoch 8/30\n",
      "600/600 [==============================] - 0s 58us/step - loss: 1.3370 - accuracy: 0.5550 - val_loss: 1.4137 - val_accuracy: 0.4900\n",
      "Epoch 9/30\n",
      "600/600 [==============================] - 0s 74us/step - loss: 1.2581 - accuracy: 0.5967 - val_loss: 1.3691 - val_accuracy: 0.4850\n",
      "Epoch 10/30\n",
      "600/600 [==============================] - 0s 68us/step - loss: 1.2031 - accuracy: 0.5950 - val_loss: 1.3169 - val_accuracy: 0.5150\n",
      "Epoch 11/30\n",
      "600/600 [==============================] - 0s 48us/step - loss: 1.1341 - accuracy: 0.6233 - val_loss: 1.2896 - val_accuracy: 0.5300\n",
      "Epoch 12/30\n",
      "600/600 [==============================] - 0s 68us/step - loss: 1.0785 - accuracy: 0.6383 - val_loss: 1.2705 - val_accuracy: 0.5300\n",
      "Epoch 13/30\n",
      "600/600 [==============================] - 0s 75us/step - loss: 1.0234 - accuracy: 0.6467 - val_loss: 1.2708 - val_accuracy: 0.5350\n",
      "Epoch 14/30\n",
      "600/600 [==============================] - 0s 63us/step - loss: 0.9976 - accuracy: 0.6517 - val_loss: 1.2092 - val_accuracy: 0.5600\n",
      "Epoch 15/30\n",
      "600/600 [==============================] - 0s 55us/step - loss: 0.9359 - accuracy: 0.6867 - val_loss: 1.1788 - val_accuracy: 0.5650\n",
      "Epoch 16/30\n",
      "600/600 [==============================] - 0s 68us/step - loss: 0.8919 - accuracy: 0.7050 - val_loss: 1.1853 - val_accuracy: 0.5650\n",
      "Epoch 17/30\n",
      "600/600 [==============================] - 0s 58us/step - loss: 0.8568 - accuracy: 0.7317 - val_loss: 1.2083 - val_accuracy: 0.5400\n",
      "Epoch 18/30\n",
      "600/600 [==============================] - 0s 65us/step - loss: 0.8363 - accuracy: 0.7317 - val_loss: 1.2003 - val_accuracy: 0.5550\n",
      "Epoch 19/30\n",
      "600/600 [==============================] - 0s 64us/step - loss: 0.7892 - accuracy: 0.7400 - val_loss: 1.1942 - val_accuracy: 0.5450\n",
      "Epoch 20/30\n",
      "600/600 [==============================] - 0s 57us/step - loss: 0.7717 - accuracy: 0.7517 - val_loss: 1.1554 - val_accuracy: 0.5750\n",
      "Epoch 21/30\n",
      "600/600 [==============================] - 0s 55us/step - loss: 0.7384 - accuracy: 0.7567 - val_loss: 1.1460 - val_accuracy: 0.5700\n",
      "Epoch 22/30\n",
      "600/600 [==============================] - 0s 77us/step - loss: 0.7174 - accuracy: 0.7633 - val_loss: 1.1664 - val_accuracy: 0.5600\n",
      "Epoch 23/30\n",
      "600/600 [==============================] - 0s 70us/step - loss: 0.6839 - accuracy: 0.7750 - val_loss: 1.1578 - val_accuracy: 0.5700\n",
      "Epoch 24/30\n",
      "600/600 [==============================] - 0s 55us/step - loss: 0.6593 - accuracy: 0.7783 - val_loss: 1.1181 - val_accuracy: 0.5850\n",
      "Epoch 25/30\n",
      "600/600 [==============================] - 0s 58us/step - loss: 0.6293 - accuracy: 0.8067 - val_loss: 1.1120 - val_accuracy: 0.5950\n",
      "Epoch 26/30\n",
      "600/600 [==============================] - 0s 55us/step - loss: 0.6157 - accuracy: 0.8117 - val_loss: 1.1011 - val_accuracy: 0.5900\n",
      "Epoch 27/30\n",
      "600/600 [==============================] - 0s 48us/step - loss: 0.5812 - accuracy: 0.8250 - val_loss: 1.1288 - val_accuracy: 0.5950\n",
      "Epoch 28/30\n",
      "600/600 [==============================] - 0s 47us/step - loss: 0.5700 - accuracy: 0.8283 - val_loss: 1.1679 - val_accuracy: 0.5950\n",
      "Epoch 29/30\n",
      "600/600 [==============================] - 0s 63us/step - loss: 0.5660 - accuracy: 0.8267 - val_loss: 1.1212 - val_accuracy: 0.5950\n",
      "Epoch 30/30\n",
      "600/600 [==============================] - 0s 58us/step - loss: 0.5215 - accuracy: 0.8417 - val_loss: 1.1019 - val_accuracy: 0.5800\n"
     ]
    },
    {
     "data": {
      "text/plain": [
       "<keras.callbacks.callbacks.History at 0x1ae1bd4d0f0>"
      ]
     },
     "execution_count": 17,
     "metadata": {},
     "output_type": "execute_result"
    }
   ],
   "source": [
    "model = models.Sequential()\n",
    "model.add(layers.Dense(512, activation='relu', input_shape=(x_train.shape[1],)))\n",
    "model.add(layers.Dense(256, activation='relu'))\n",
    "model.add(layers.Dense(128, activation='relu'))\n",
    "model.add(layers.Dense(64, activation='relu'))\n",
    "model.add(layers.Dense(10, activation='softmax'))\n",
    "\n",
    "model.compile(optimizer='adam',\n",
    "              loss='sparse_categorical_crossentropy',\n",
    "              metrics=['accuracy'])\n",
    "\n",
    "model.fit(partial_x_train,\n",
    "          partial_y_train,\n",
    "          epochs=30,\n",
    "          batch_size=512,\n",
    "          validation_data=(x_val, y_val))"
   ]
  },
  {
   "cell_type": "code",
   "execution_count": 18,
   "metadata": {},
   "outputs": [
    {
     "data": {
      "image/png": "[encoded data removed]",
      "text/plain": [
       "<Figure size 432x288 with 1 Axes>"
      ]
     },
     "metadata": {
      "needs_background": "light"
     },
     "output_type": "display_data"
    }
   ],
   "source": [
    "# summarize history for accuracy\n",
    "plt.plot(history.history['accuracy'])\n",
    "plt.plot(history.history['val_accuracy'])\n",
    "plt.title('model accuracy')\n",
    "plt.ylabel('accuracy')\n",
    "plt.xlabel('epoch')\n",
    "plt.legend(['train', 'test'], loc='upper left')\n",
    "plt.show()"
   ]
  },
  {
   "cell_type": "code",
   "execution_count": 19,
   "metadata": {},
   "outputs": [
    {
     "data": {
      "image/png": "[encoded data removed]",
      "text/plain": [
       "<Figure size 432x288 with 1 Axes>"
      ]
     },
     "metadata": {
      "needs_background": "light"
     },
     "output_type": "display_data"
    }
   ],
   "source": [
    "# summarize history for loss\n",
    "plt.plot(history.history['loss'])\n",
    "plt.plot(history.history['val_loss'])\n",
    "plt.title('model loss')\n",
    "plt.ylabel('loss')\n",
    "plt.xlabel('epoch')\n",
    "plt.legend(['train', 'test'], loc='upper left')\n",
    "plt.show()"
   ]
  },
  {
   "cell_type": "code",
   "execution_count": 20,
   "metadata": {},
   "outputs": [
    {
     "name": "stdout",
     "output_type": "stream",
     "text": [
      "200/200 [==============================] - 0s 85us/step\n"
     ]
    }
   ],
   "source": [
    "results = model.evaluate(x_test, y_test)"
   ]
  },
  {
   "cell_type": "code",
   "execution_count": 21,
   "metadata": {},
   "outputs": [
    {
     "data": {
      "text/plain": [
       "[1.2229245758056642, 0.6100000143051147]"
      ]
     },
     "execution_count": 21,
     "metadata": {},
     "output_type": "execute_result"
    }
   ],
   "source": [
    "results"
   ]
  }
 ],
 "metadata": {
  "kernelspec": {
   "display_name": "Python 3",
   "language": "python",
   "name": "python3"
  },
  "language_info": {
   "codemirror_mode": {
    "name": "ipython",
    "version": 3
   },
   "file_extension": ".py",
   "mimetype": "text/x-python",
   "name": "python",
   "nbconvert_exporter": "python",
   "pygments_lexer": "ipython3",
   "version": "3.7.6"
  }
 },
 "nbformat": 4,
 "nbformat_minor": 2
}
