{
 "cells": [
  {
   "cell_type": "code",
   "execution_count": 12,
   "metadata": {},
   "outputs": [],
   "source": [
    "\"\"\"\n",
    "- Load data\n",
    "- Pre-processing scripts\n",
    "- Model\n",
    "\n",
    "- Train?\n",
    "- Predictions?\n",
    "\"\"\"\n",
    "\n",
    "import numpy as np\n",
    "import pandas as pd\n",
    "import matplotlib.pyplot as plt\n",
    "%matplotlib inline"
   ]
  },
  {
   "cell_type": "code",
   "execution_count": 41,
   "metadata": {},
   "outputs": [
    {
     "data": {
      "text/html": [
       "<div>\n",
       "<style scoped>\n",
       "    .dataframe tbody tr th:only-of-type {\n",
       "        vertical-align: middle;\n",
       "    }\n",
       "\n",
       "    .dataframe tbody tr th {\n",
       "        vertical-align: top;\n",
       "    }\n",
       "\n",
       "    .dataframe thead th {\n",
       "        text-align: right;\n",
       "    }\n",
       "</style>\n",
       "<table border=\"1\" class=\"dataframe\">\n",
       "  <thead>\n",
       "    <tr style=\"text-align: right;\">\n",
       "      <th></th>\n",
       "      <th>Lyrics</th>\n",
       "    </tr>\n",
       "  </thead>\n",
       "  <tbody>\n",
       "    <tr>\n",
       "      <td>0</td>\n",
       "      <td>Look at her face, it's a wonderful face  \\nAnd...</td>\n",
       "    </tr>\n",
       "    <tr>\n",
       "      <td>1</td>\n",
       "      <td>Take it easy with me, please  \\nTouch me gentl...</td>\n",
       "    </tr>\n",
       "    <tr>\n",
       "      <td>2</td>\n",
       "      <td>I'll never know why I had to go  \\nWhy I had t...</td>\n",
       "    </tr>\n",
       "    <tr>\n",
       "      <td>3</td>\n",
       "      <td>Making somebody happy is a question of give an...</td>\n",
       "    </tr>\n",
       "    <tr>\n",
       "      <td>4</td>\n",
       "      <td>Making somebody happy is a question of give an...</td>\n",
       "    </tr>\n",
       "  </tbody>\n",
       "</table>\n",
       "</div>"
      ],
      "text/plain": [
       "                                              Lyrics\n",
       "0  Look at her face, it's a wonderful face  \\nAnd...\n",
       "1  Take it easy with me, please  \\nTouch me gentl...\n",
       "2  I'll never know why I had to go  \\nWhy I had t...\n",
       "3  Making somebody happy is a question of give an...\n",
       "4  Making somebody happy is a question of give an..."
      ]
     },
     "execution_count": 41,
     "metadata": {},
     "output_type": "execute_result"
    }
   ],
   "source": [
    "filename = \"songdata.csv\"\n",
    "\n",
    "data = pd.read_csv(filename)\n",
    "data.head()"
   ]
  },
  {
   "cell_type": "code",
   "execution_count": 42,
   "metadata": {},
   "outputs": [
    {
     "data": {
      "text/html": [
       "<div>\n",
       "<style scoped>\n",
       "    .dataframe tbody tr th:only-of-type {\n",
       "        vertical-align: middle;\n",
       "    }\n",
       "\n",
       "    .dataframe tbody tr th {\n",
       "        vertical-align: top;\n",
       "    }\n",
       "\n",
       "    .dataframe thead th {\n",
       "        text-align: right;\n",
       "    }\n",
       "</style>\n",
       "<table border=\"1\" class=\"dataframe\">\n",
       "  <thead>\n",
       "    <tr style=\"text-align: right;\">\n",
       "      <th></th>\n",
       "      <th>Lyrics</th>\n",
       "    </tr>\n",
       "  </thead>\n",
       "  <tbody>\n",
       "    <tr>\n",
       "      <td>0</td>\n",
       "      <td>look at her face, its a wonderful face  \\nand ...</td>\n",
       "    </tr>\n",
       "    <tr>\n",
       "      <td>1</td>\n",
       "      <td>take it easy with me, please  \\ntouch me gentl...</td>\n",
       "    </tr>\n",
       "    <tr>\n",
       "      <td>2</td>\n",
       "      <td>ill never know why i had to go  \\nwhy i had to...</td>\n",
       "    </tr>\n",
       "    <tr>\n",
       "      <td>3</td>\n",
       "      <td>making somebody happy is a question of give an...</td>\n",
       "    </tr>\n",
       "    <tr>\n",
       "      <td>4</td>\n",
       "      <td>making somebody happy is a question of give an...</td>\n",
       "    </tr>\n",
       "  </tbody>\n",
       "</table>\n",
       "</div>"
      ],
      "text/plain": [
       "                                              Lyrics\n",
       "0  look at her face, its a wonderful face  \\nand ...\n",
       "1  take it easy with me, please  \\ntouch me gentl...\n",
       "2  ill never know why i had to go  \\nwhy i had to...\n",
       "3  making somebody happy is a question of give an...\n",
       "4  making somebody happy is a question of give an..."
      ]
     },
     "execution_count": 42,
     "metadata": {},
     "output_type": "execute_result"
    }
   ],
   "source": [
    "from string import ascii_lowercase\n",
    "\n",
    "good_chars = ascii_lowercase + ' .,\\n'\n",
    "\n",
    "# clean string to leave only allowed chars\n",
    "def clean(s):\n",
    "    s = s.lower()\n",
    "    rtrn = \"\"\n",
    "    # c is char\n",
    "    for c in s:\n",
    "        if c in good_chars:\n",
    "            rtrn += c\n",
    "    return rtrn\n",
    "\n",
    "data['Lyrics'] = data['Lyrics'].apply(clean)\n",
    "data.head()"
   ]
  },
  {
   "cell_type": "code",
   "execution_count": null,
   "metadata": {},
   "outputs": [],
   "source": [
    "real_data = pd.DataFrame()#pd.DataFrame([[\"\", \"\", 0]], columns=[\"Seed\", \"Char\", \"ASCII\"])\n",
    "real_data.head()"
   ]
  },
  {
   "cell_type": "code",
   "execution_count": null,
   "metadata": {},
   "outputs": [],
   "source": [
    "for line in data['Lyrics']:\n",
    "    line_length = len(line)\n",
    "    \n",
    "    for i in range(0, line_length - 20):\n",
    "        # Writes the seed, char, and ascii value respectively to output file\n",
    "        seed = line[i:i + 20]\n",
    "        char = line[i + 20]\n",
    "        asc = ord(char)\n",
    "        \n",
    "        real_data = real_data.append({'Seed': seed, 'Char': char, 'ASCII', asc}, ignore_index=True)\n",
    "\n",
    "real_data.head()    "
   ]
  },
  {
   "cell_type": "code",
   "execution_count": null,
   "metadata": {},
   "outputs": [],
   "source": [
    "import csv;\n",
    "import os;\n",
    "import sys;\n",
    "\n",
    "class CSVIO():\n",
    "    def __init__(self, inputFile, outputFile):\n",
    "        self.dataName = inputFile;\n",
    "        self.outputName = outputFile;\n",
    "\n",
    "        # Opens files\n",
    "        self.data = open(self.dataName, 'r', encoding='utf8');\n",
    "        self.output = open(self.outputName, 'w', encoding='utf8');\n",
    "        self.writer =  csv.writer(self.output, delimiter=',', lineterminator='\\n');\n",
    "\n",
    "        # Creates header for the output file\n",
    "        self.write((\"Seed\", \"Char\", \"ASCII\"));\n",
    "\n",
    "    def close(self, file):\n",
    "        file.close();\n",
    "\n",
    "    def write(self, elems):\n",
    "        self.writer.writerow(elems);\n",
    "\n",
    "    def size(self, fileName):\n",
    "        return os.path.getsize(self.fileName);\n",
    "\n",
    "    def fI(self):\n",
    "        return self.data;\n",
    "\n",
    "    def fO(self):\n",
    "        return self.output;\n",
    "\n",
    "    def readFile(self):\n",
    "        for line in self.fI():\n",
    "            lineLength = len(line);  \n",
    "            # If we want to get ride of new lines: line = line.strip()\n",
    "\n",
    "            # Ensures that the line has at least 21 lines\n",
    "            if (lineLength >= 21):\n",
    "                for i in range(0, lineLength - 20):\n",
    "                    # Writes the seed, char, and ascii value respectively to output file\n",
    "                    self.write((line [i:i+20], line [i+20], ord(line [i+20])));"
   ]
  },
  {
   "cell_type": "code",
   "execution_count": null,
   "metadata": {},
   "outputs": [],
   "source": [
    "# Input and Output filenames are read from the command line\n",
    "inputFile = sys.argv [1]\n",
    "outputFile = sys.argv [2]\n",
    "\n",
    "# Creates IO Class and reads the file\n",
    "ModelIO = CSVIO(inputFile, outputFile);\n",
    "ModelIO.readFile();\n",
    "\n",
    "# Closes files\n",
    "ModelIO.close(ModelIO.fI());\n",
    "ModelIO.close(ModelIO.fO());\n",
    "print(\"Done\");"
   ]
  }
 ],
 "metadata": {
  "kernelspec": {
   "display_name": "Python 3",
   "language": "python",
   "name": "python3"
  },
  "language_info": {
   "codemirror_mode": {
    "name": "ipython",
    "version": 3
   },
   "file_extension": ".py",
   "mimetype": "text/x-python",
   "name": "python",
   "nbconvert_exporter": "python",
   "pygments_lexer": "ipython3",
   "version": "3.7.3"
  }
 },
 "nbformat": 4,
 "nbformat_minor": 2
}
