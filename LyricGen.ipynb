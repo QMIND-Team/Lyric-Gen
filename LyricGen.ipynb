{
 "cells": [
  {
   "cell_type": "code",
   "execution_count": 1,
   "metadata": {},
   "outputs": [],
   "source": [
    "import numpy as np\n",
    "import pandas as pd\n",
    "import matplotlib.pyplot as plt\n",
    "%matplotlib inline\n",
    "\n",
    "filename = \"songdata.csv\"\n",
    "\n",
    "data = pd.read_csv(filename)\n",
    "data.head()"
   ]
  },
  {
   "cell_type": "code",
   "execution_count": 3,
   "metadata": {},
   "outputs": [
    {
     "data": {
      "text/html": [
       "<div>\n",
       "<style scoped>\n",
       "    .dataframe tbody tr th:only-of-type {\n",
       "        vertical-align: middle;\n",
       "    }\n",
       "\n",
       "    .dataframe tbody tr th {\n",
       "        vertical-align: top;\n",
       "    }\n",
       "\n",
       "    .dataframe thead th {\n",
       "        text-align: right;\n",
       "    }\n",
       "</style>\n",
       "<table border=\"1\" class=\"dataframe\">\n",
       "  <thead>\n",
       "    <tr style=\"text-align: right;\">\n",
       "      <th></th>\n",
       "      <th>Lyrics</th>\n",
       "    </tr>\n",
       "  </thead>\n",
       "  <tbody>\n",
       "    <tr>\n",
       "      <td>0</td>\n",
       "      <td>look at her face, its a wonderful face  \\nand ...</td>\n",
       "    </tr>\n",
       "    <tr>\n",
       "      <td>1</td>\n",
       "      <td>take it easy with me, please  \\ntouch me gentl...</td>\n",
       "    </tr>\n",
       "    <tr>\n",
       "      <td>2</td>\n",
       "      <td>ill never know why i had to go  \\nwhy i had to...</td>\n",
       "    </tr>\n",
       "    <tr>\n",
       "      <td>3</td>\n",
       "      <td>making somebody happy is a question of give an...</td>\n",
       "    </tr>\n",
       "    <tr>\n",
       "      <td>4</td>\n",
       "      <td>making somebody happy is a question of give an...</td>\n",
       "    </tr>\n",
       "  </tbody>\n",
       "</table>\n",
       "</div>"
      ],
      "text/plain": [
       "                                              Lyrics\n",
       "0  look at her face, its a wonderful face  \\nand ...\n",
       "1  take it easy with me, please  \\ntouch me gentl...\n",
       "2  ill never know why i had to go  \\nwhy i had to...\n",
       "3  making somebody happy is a question of give an...\n",
       "4  making somebody happy is a question of give an..."
      ]
     },
     "execution_count": 3,
     "metadata": {},
     "output_type": "execute_result"
    }
   ],
   "source": [
    "from string import ascii_lowercase\n",
    "\n",
    "good_chars = ascii_lowercase + ' .,\\n'\n",
    "\n",
    "# clean string to leave only allowed chars\n",
    "def clean(s):\n",
    "    s = s.lower()\n",
    "    rtrn = \"\"\n",
    "    # c is char\n",
    "    for c in s:\n",
    "        if c in good_chars:\n",
    "            rtrn += c\n",
    "    return rtrn\n",
    "\n",
    "data['Lyrics'] = data['Lyrics'].apply(clean)\n",
    "data.head()"
   ]
  },
  {
   "cell_type": "code",
   "execution_count": null,
   "metadata": {},
   "outputs": [],
   "source": [
    "real_data = pd.DataFrame()\n",
    "\n",
    "for line in data['Lyrics']:\n",
    "    line_length = len(line)\n",
    "    \n",
    "    for i in range(0, line_length - 20):\n",
    "        # Writes the seed, char, and ascii value respectively to output file\n",
    "        seed = line[i:i + 20]\n",
    "        char = line[i + 20]\n",
    "        \n",
    "        real_data = real_data.append({'Seed': seed, 'Output': char}, ignore_index=True)\n",
    "\n",
    "real_data.head()"
   ]
  },
  {
   "cell_type": "code",
   "execution_count": null,
   "metadata": {},
   "outputs": [],
   "source": [
    "for row in range(real_data.shape[0]):\n",
    "    val = ord(real_data['Output'][row])\n",
    "    real_data['Output'][row] = val\n",
    "    \n",
    "    if val not in df:\n",
    "        real_data[val] = 0\n",
    "    \n",
    "    real_data[val][row] = 1\n",
    "del real_data['Output']\n",
    "\n",
    "real_data.head()"
   ]
  },
  {
   "cell_type": "code",
   "execution_count": null,
   "metadata": {},
   "outputs": [],
   "source": []
  }
 ],
 "metadata": {
  "kernelspec": {
   "display_name": "Python 3",
   "language": "python",
   "name": "python3"
  },
  "language_info": {
   "codemirror_mode": {
    "name": "ipython",
    "version": 3
   },
   "file_extension": ".py",
   "mimetype": "text/x-python",
   "name": "python",
   "nbconvert_exporter": "python",
   "pygments_lexer": "ipython3",
   "version": "3.7.3"
  }
 },
 "nbformat": 4,
 "nbformat_minor": 2
}
