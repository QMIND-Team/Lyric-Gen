{
 "cells": [
  {
   "cell_type": "code",
   "execution_count": 2,
   "metadata": {},
   "outputs": [
    {
     "name": "stderr",
     "output_type": "stream",
     "text": [
      "Using TensorFlow backend.\n"
     ]
    }
   ],
   "source": [
    "# feature extractoring and preprocessing data\n",
    "import librosa\n",
    "import pandas as pd\n",
    "import numpy as np\n",
    "import matplotlib.pyplot as plt\n",
    "%matplotlib inline\n",
    "import os\n",
    "from PIL import Image\n",
    "import pathlib\n",
    "import csv\n",
    "\n",
    "# Preprocessing\n",
    "from sklearn.model_selection import train_test_split\n",
    "from sklearn.preprocessing import LabelEncoder, StandardScaler\n",
    "\n",
    "#Keras\n",
    "import keras\n",
    "\n",
    "import warnings\n",
    "warnings.filterwarnings('ignore')"
   ]
  },
  {
   "cell_type": "code",
   "execution_count": null,
   "metadata": {},
   "outputs": [
    {
     "data": {
      "text/plain": [
       "<Figure size 720x720 with 0 Axes>"
      ]
     },
     "metadata": {},
     "output_type": "display_data"
    }
   ],
   "source": [
    "cmap = plt.get_cmap('inferno')\n",
    "\n",
    "plt.figure(figsize=(10,10))\n",
    "genres = 'blues classical country disco hiphop jazz metal pop reggae rock'.split()\n",
    "for g in genres:\n",
    "    pathlib.Path(f'img_data/{g}').mkdir(parents=True, exist_ok=True)     \n",
    "    for filename in os.listdir(f'./genres/{g}'):\n",
    "        songname = f'./genres/{g}/{filename}'\n",
    "        y, sr = librosa.load(songname, mono=True, duration=5)\n",
    "        plt.specgram(y, NFFT=2048, Fs=2, Fc=0, noverlap=128, cmap=cmap, sides='default', mode='default', scale='dB');\n",
    "        plt.axis('off');\n",
    "        plt.savefig(f'img_data/{g}/{filename[:-3].replace(\".\", \"\")}.png')\n",
    "        plt.clf()"
   ]
  },
  {
   "cell_type": "code",
   "execution_count": 2,
   "metadata": {},
   "outputs": [],
   "source": [
    "header = 'filename chroma_stft rmse spectral_centroid spectral_bandwidth rolloff zero_crossing_rate'\n",
    "for i in range(1, 21):\n",
    "    header += f' mfcc{i}'\n",
    "header += ' label'\n",
    "header = header.split()"
   ]
  },
  {
   "cell_type": "code",
   "execution_count": 3,
   "metadata": {},
   "outputs": [
    {
     "name": "stdout",
     "output_type": "stream",
     "text": [
      "working on blues...\n",
      "working on classical...\n",
      "working on country...\n",
      "working on disco...\n",
      "working on hiphop...\n",
      "working on jazz...\n",
      "working on metal...\n",
      "working on pop...\n",
      "working on reggae...\n",
      "working on rock...\n"
     ]
    }
   ],
   "source": [
    "\n",
    "file = open('data.csv', 'w', newline='')\n",
    "with file:\n",
    "    writer = csv.writer(file)\n",
    "    writer.writerow(header)\n",
    "genres = 'blues classical country disco hiphop jazz metal pop reggae rock'.split()\n",
    "for g in genres:\n",
    "    print('working on ' + g + '...')\n",
    "    \n",
    "    for filename in os.listdir(f'./genres/{g}'):\n",
    "        songname = f'./genres/{g}/{filename}'\n",
    "        y, sr = librosa.load(songname, mono=True, duration=30)\n",
    "        chroma_stft = librosa.feature.chroma_stft(y=y, sr=sr)\n",
    "        rmse = librosa.feature.rmse(y=y)\n",
    "        spec_cent = librosa.feature.spectral_centroid(y=y, sr=sr)\n",
    "        spec_bw = librosa.feature.spectral_bandwidth(y=y, sr=sr)\n",
    "        rolloff = librosa.feature.spectral_rolloff(y=y, sr=sr)\n",
    "        zcr = librosa.feature.zero_crossing_rate(y)\n",
    "        mfcc = librosa.feature.mfcc(y=y, sr=sr)\n",
    "        to_append = f'{filename} {np.mean(chroma_stft)} {np.mean(rmse)} {np.mean(spec_cent)} {np.mean(spec_bw)} {np.mean(rolloff)} {np.mean(zcr)}'    \n",
    "        for e in mfcc:\n",
    "            to_append += f' {np.mean(e)}'\n",
    "        to_append += f' {g}'\n",
    "        file = open('data.csv', 'a', newline='')\n",
    "        with file:\n",
    "            writer = csv.writer(file)\n",
    "            writer.writerow(to_append.split())"
   ]
  },
  {
   "cell_type": "code",
   "execution_count": 3,
   "metadata": {},
   "outputs": [
    {
     "data": {
      "text/html": [
       "<div>\n",
       "<style scoped>\n",
       "    .dataframe tbody tr th:only-of-type {\n",
       "        vertical-align: middle;\n",
       "    }\n",
       "\n",
       "    .dataframe tbody tr th {\n",
       "        vertical-align: top;\n",
       "    }\n",
       "\n",
       "    .dataframe thead th {\n",
       "        text-align: right;\n",
       "    }\n",
       "</style>\n",
       "<table border=\"1\" class=\"dataframe\">\n",
       "  <thead>\n",
       "    <tr style=\"text-align: right;\">\n",
       "      <th></th>\n",
       "      <th>filename</th>\n",
       "      <th>chroma_stft</th>\n",
       "      <th>rmse</th>\n",
       "      <th>spectral_centroid</th>\n",
       "      <th>spectral_bandwidth</th>\n",
       "      <th>rolloff</th>\n",
       "      <th>zero_crossing_rate</th>\n",
       "      <th>mfcc1</th>\n",
       "      <th>mfcc2</th>\n",
       "      <th>mfcc3</th>\n",
       "      <th>...</th>\n",
       "      <th>mfcc12</th>\n",
       "      <th>mfcc13</th>\n",
       "      <th>mfcc14</th>\n",
       "      <th>mfcc15</th>\n",
       "      <th>mfcc16</th>\n",
       "      <th>mfcc17</th>\n",
       "      <th>mfcc18</th>\n",
       "      <th>mfcc19</th>\n",
       "      <th>mfcc20</th>\n",
       "      <th>label</th>\n",
       "    </tr>\n",
       "  </thead>\n",
       "  <tbody>\n",
       "    <tr>\n",
       "      <th>0</th>\n",
       "      <td>blues.00000.au</td>\n",
       "      <td>0.349943</td>\n",
       "      <td>0.130225</td>\n",
       "      <td>1784.420446</td>\n",
       "      <td>2002.650192</td>\n",
       "      <td>3806.485316</td>\n",
       "      <td>0.083066</td>\n",
       "      <td>-113.596742</td>\n",
       "      <td>121.557302</td>\n",
       "      <td>-19.158825</td>\n",
       "      <td>...</td>\n",
       "      <td>8.810668</td>\n",
       "      <td>-3.667367</td>\n",
       "      <td>5.751690</td>\n",
       "      <td>-5.162761</td>\n",
       "      <td>0.750947</td>\n",
       "      <td>-1.691937</td>\n",
       "      <td>-0.409954</td>\n",
       "      <td>-2.300208</td>\n",
       "      <td>1.219928</td>\n",
       "      <td>blues</td>\n",
       "    </tr>\n",
       "    <tr>\n",
       "      <th>1</th>\n",
       "      <td>blues.00001.au</td>\n",
       "      <td>0.340983</td>\n",
       "      <td>0.095918</td>\n",
       "      <td>1529.835316</td>\n",
       "      <td>2038.617579</td>\n",
       "      <td>3548.820207</td>\n",
       "      <td>0.056044</td>\n",
       "      <td>-207.556796</td>\n",
       "      <td>124.006717</td>\n",
       "      <td>8.930562</td>\n",
       "      <td>...</td>\n",
       "      <td>5.376802</td>\n",
       "      <td>-2.239119</td>\n",
       "      <td>4.216963</td>\n",
       "      <td>-6.012273</td>\n",
       "      <td>0.936109</td>\n",
       "      <td>-0.716537</td>\n",
       "      <td>0.293875</td>\n",
       "      <td>-0.287431</td>\n",
       "      <td>0.531573</td>\n",
       "      <td>blues</td>\n",
       "    </tr>\n",
       "    <tr>\n",
       "      <th>2</th>\n",
       "      <td>blues.00002.au</td>\n",
       "      <td>0.363603</td>\n",
       "      <td>0.175573</td>\n",
       "      <td>1552.481958</td>\n",
       "      <td>1747.165985</td>\n",
       "      <td>3040.514948</td>\n",
       "      <td>0.076301</td>\n",
       "      <td>-90.754394</td>\n",
       "      <td>140.459907</td>\n",
       "      <td>-29.109965</td>\n",
       "      <td>...</td>\n",
       "      <td>5.789265</td>\n",
       "      <td>-8.905224</td>\n",
       "      <td>-1.083720</td>\n",
       "      <td>-9.218359</td>\n",
       "      <td>2.455805</td>\n",
       "      <td>-7.726901</td>\n",
       "      <td>-1.815724</td>\n",
       "      <td>-3.433434</td>\n",
       "      <td>-2.226821</td>\n",
       "      <td>blues</td>\n",
       "    </tr>\n",
       "    <tr>\n",
       "      <th>3</th>\n",
       "      <td>blues.00003.au</td>\n",
       "      <td>0.404779</td>\n",
       "      <td>0.141191</td>\n",
       "      <td>1070.119953</td>\n",
       "      <td>1596.333948</td>\n",
       "      <td>2185.028454</td>\n",
       "      <td>0.033309</td>\n",
       "      <td>-199.431144</td>\n",
       "      <td>150.099218</td>\n",
       "      <td>5.647594</td>\n",
       "      <td>...</td>\n",
       "      <td>6.087676</td>\n",
       "      <td>-2.476420</td>\n",
       "      <td>-1.073890</td>\n",
       "      <td>-2.874777</td>\n",
       "      <td>0.780976</td>\n",
       "      <td>-3.316932</td>\n",
       "      <td>0.637981</td>\n",
       "      <td>-0.619690</td>\n",
       "      <td>-3.408233</td>\n",
       "      <td>blues</td>\n",
       "    </tr>\n",
       "    <tr>\n",
       "      <th>4</th>\n",
       "      <td>blues.00004.au</td>\n",
       "      <td>0.308590</td>\n",
       "      <td>0.091563</td>\n",
       "      <td>1835.494603</td>\n",
       "      <td>1748.362448</td>\n",
       "      <td>3580.945013</td>\n",
       "      <td>0.101500</td>\n",
       "      <td>-160.266031</td>\n",
       "      <td>126.198800</td>\n",
       "      <td>-35.605448</td>\n",
       "      <td>...</td>\n",
       "      <td>-2.806385</td>\n",
       "      <td>-6.934122</td>\n",
       "      <td>-7.558619</td>\n",
       "      <td>-9.173552</td>\n",
       "      <td>-4.512166</td>\n",
       "      <td>-5.453538</td>\n",
       "      <td>-0.924162</td>\n",
       "      <td>-4.409333</td>\n",
       "      <td>-11.703781</td>\n",
       "      <td>blues</td>\n",
       "    </tr>\n",
       "  </tbody>\n",
       "</table>\n",
       "<p>5 rows × 28 columns</p>\n",
       "</div>"
      ],
      "text/plain": [
       "         filename  chroma_stft      rmse  spectral_centroid  \\\n",
       "0  blues.00000.au     0.349943  0.130225        1784.420446   \n",
       "1  blues.00001.au     0.340983  0.095918        1529.835316   \n",
       "2  blues.00002.au     0.363603  0.175573        1552.481958   \n",
       "3  blues.00003.au     0.404779  0.141191        1070.119953   \n",
       "4  blues.00004.au     0.308590  0.091563        1835.494603   \n",
       "\n",
       "   spectral_bandwidth      rolloff  zero_crossing_rate       mfcc1  \\\n",
       "0         2002.650192  3806.485316            0.083066 -113.596742   \n",
       "1         2038.617579  3548.820207            0.056044 -207.556796   \n",
       "2         1747.165985  3040.514948            0.076301  -90.754394   \n",
       "3         1596.333948  2185.028454            0.033309 -199.431144   \n",
       "4         1748.362448  3580.945013            0.101500 -160.266031   \n",
       "\n",
       "        mfcc2      mfcc3  ...    mfcc12    mfcc13    mfcc14    mfcc15  \\\n",
       "0  121.557302 -19.158825  ...  8.810668 -3.667367  5.751690 -5.162761   \n",
       "1  124.006717   8.930562  ...  5.376802 -2.239119  4.216963 -6.012273   \n",
       "2  140.459907 -29.109965  ...  5.789265 -8.905224 -1.083720 -9.218359   \n",
       "3  150.099218   5.647594  ...  6.087676 -2.476420 -1.073890 -2.874777   \n",
       "4  126.198800 -35.605448  ... -2.806385 -6.934122 -7.558619 -9.173552   \n",
       "\n",
       "     mfcc16    mfcc17    mfcc18    mfcc19     mfcc20  label  \n",
       "0  0.750947 -1.691937 -0.409954 -2.300208   1.219928  blues  \n",
       "1  0.936109 -0.716537  0.293875 -0.287431   0.531573  blues  \n",
       "2  2.455805 -7.726901 -1.815724 -3.433434  -2.226821  blues  \n",
       "3  0.780976 -3.316932  0.637981 -0.619690  -3.408233  blues  \n",
       "4 -4.512166 -5.453538 -0.924162 -4.409333 -11.703781  blues  \n",
       "\n",
       "[5 rows x 28 columns]"
      ]
     },
     "execution_count": 3,
     "metadata": {},
     "output_type": "execute_result"
    }
   ],
   "source": [
    "data = pd.read_csv('data.csv')\n",
    "data.head()"
   ]
  },
  {
   "cell_type": "code",
   "execution_count": 4,
   "metadata": {},
   "outputs": [
    {
     "data": {
      "text/plain": [
       "(1000, 28)"
      ]
     },
     "execution_count": 4,
     "metadata": {},
     "output_type": "execute_result"
    }
   ],
   "source": [
    "data.shape"
   ]
  },
  {
   "cell_type": "code",
   "execution_count": 5,
   "metadata": {},
   "outputs": [],
   "source": [
    "# Dropping unneccesary columns\n",
    "data = data.drop(['filename'],axis=1)"
   ]
  },
  {
   "cell_type": "code",
   "execution_count": 6,
   "metadata": {},
   "outputs": [],
   "source": [
    "genre_list = data.iloc[:, -1]\n",
    "encoder = LabelEncoder()\n",
    "y = encoder.fit_transform(genre_list)"
   ]
  },
  {
   "cell_type": "code",
   "execution_count": 7,
   "metadata": {},
   "outputs": [],
   "source": [
    "scaler = StandardScaler()\n",
    "x = scaler.fit_transform(np.array(data.iloc[:, :-1], dtype = float))"
   ]
  },
  {
   "cell_type": "code",
   "execution_count": 8,
   "metadata": {},
   "outputs": [],
   "source": [
    "x_train, x_test, y_train, y_test = train_test_split(x, y, test_size=0.2)"
   ]
  },
  {
   "cell_type": "code",
   "execution_count": 9,
   "metadata": {},
   "outputs": [],
   "source": [
    "from keras import models\n",
    "from keras import layers\n",
    "\n",
    "model = models.Sequential()\n",
    "model.add(layers.Dense(256, activation='relu', input_shape=(x_train.shape[1],)))\n",
    "model.add(layers.Dropout(0.2))\n",
    "model.add(layers.Dense(128, activation='relu'))\n",
    "model.add(layers.Dense(64, activation='relu'))\n",
    "model.add(layers.Dense(10, activation='softmax'))\n",
    "\n",
    "model.compile(optimizer='adam',\n",
    "              loss='sparse_categorical_crossentropy',\n",
    "              metrics=['accuracy'])"
   ]
  },
  {
   "cell_type": "code",
   "execution_count": 10,
   "metadata": {},
   "outputs": [
    {
     "name": "stdout",
     "output_type": "stream",
     "text": [
      "Model: \"sequential_1\"\n",
      "_________________________________________________________________\n",
      "Layer (type)                 Output Shape              Param #   \n",
      "=================================================================\n",
      "dense_1 (Dense)              (None, 256)               6912      \n",
      "_________________________________________________________________\n",
      "dropout_1 (Dropout)          (None, 256)               0         \n",
      "_________________________________________________________________\n",
      "dense_2 (Dense)              (None, 128)               32896     \n",
      "_________________________________________________________________\n",
      "dense_3 (Dense)              (None, 64)                8256      \n",
      "_________________________________________________________________\n",
      "dense_4 (Dense)              (None, 10)                650       \n",
      "=================================================================\n",
      "Total params: 48,714\n",
      "Trainable params: 48,714\n",
      "Non-trainable params: 0\n",
      "_________________________________________________________________\n"
     ]
    }
   ],
   "source": [
    "model.summary()"
   ]
  },
  {
   "cell_type": "code",
   "execution_count": 11,
   "metadata": {},
   "outputs": [
    {
     "name": "stdout",
     "output_type": "stream",
     "text": [
      "Train on 800 samples, validate on 200 samples\n",
      "Epoch 1/20\n",
      "800/800 [==============================] - 0s 204us/step - loss: 2.2561 - accuracy: 0.1725 - val_loss: 2.0636 - val_accuracy: 0.4300\n",
      "Epoch 2/20\n",
      "800/800 [==============================] - 0s 16us/step - loss: 1.9606 - accuracy: 0.3762 - val_loss: 1.7790 - val_accuracy: 0.4400\n",
      "Epoch 3/20\n",
      "800/800 [==============================] - 0s 17us/step - loss: 1.7163 - accuracy: 0.4100 - val_loss: 1.5966 - val_accuracy: 0.4700\n",
      "Epoch 4/20\n",
      "800/800 [==============================] - 0s 18us/step - loss: 1.5431 - accuracy: 0.4450 - val_loss: 1.4520 - val_accuracy: 0.4900\n",
      "Epoch 5/20\n",
      "800/800 [==============================] - 0s 19us/step - loss: 1.3837 - accuracy: 0.5387 - val_loss: 1.3567 - val_accuracy: 0.5300\n",
      "Epoch 6/20\n",
      "800/800 [==============================] - 0s 19us/step - loss: 1.2859 - accuracy: 0.5550 - val_loss: 1.2581 - val_accuracy: 0.5400\n",
      "Epoch 7/20\n",
      "800/800 [==============================] - 0s 18us/step - loss: 1.1998 - accuracy: 0.5813 - val_loss: 1.2038 - val_accuracy: 0.5500\n",
      "Epoch 8/20\n",
      "800/800 [==============================] - 0s 19us/step - loss: 1.1295 - accuracy: 0.6338 - val_loss: 1.1385 - val_accuracy: 0.5850\n",
      "Epoch 9/20\n",
      "800/800 [==============================] - 0s 18us/step - loss: 1.0569 - accuracy: 0.6363 - val_loss: 1.1091 - val_accuracy: 0.5900\n",
      "Epoch 10/20\n",
      "800/800 [==============================] - 0s 18us/step - loss: 1.0138 - accuracy: 0.6587 - val_loss: 1.0795 - val_accuracy: 0.6100\n",
      "Epoch 11/20\n",
      "800/800 [==============================] - 0s 19us/step - loss: 0.9657 - accuracy: 0.6825 - val_loss: 1.0379 - val_accuracy: 0.6100\n",
      "Epoch 12/20\n",
      "800/800 [==============================] - 0s 20us/step - loss: 0.9148 - accuracy: 0.6825 - val_loss: 1.0312 - val_accuracy: 0.6350\n",
      "Epoch 13/20\n",
      "800/800 [==============================] - 0s 18us/step - loss: 0.8870 - accuracy: 0.7038 - val_loss: 1.0164 - val_accuracy: 0.6400\n",
      "Epoch 14/20\n",
      "800/800 [==============================] - 0s 19us/step - loss: 0.8598 - accuracy: 0.7225 - val_loss: 0.9912 - val_accuracy: 0.6350\n",
      "Epoch 15/20\n",
      "800/800 [==============================] - 0s 18us/step - loss: 0.8455 - accuracy: 0.7250 - val_loss: 0.9917 - val_accuracy: 0.6250\n",
      "Epoch 16/20\n",
      "800/800 [==============================] - 0s 18us/step - loss: 0.8088 - accuracy: 0.7250 - val_loss: 0.9364 - val_accuracy: 0.6450\n",
      "Epoch 17/20\n",
      "800/800 [==============================] - 0s 18us/step - loss: 0.7857 - accuracy: 0.7412 - val_loss: 0.9826 - val_accuracy: 0.6150\n",
      "Epoch 18/20\n",
      "800/800 [==============================] - 0s 16us/step - loss: 0.7551 - accuracy: 0.7450 - val_loss: 0.9267 - val_accuracy: 0.6500\n",
      "Epoch 19/20\n",
      "800/800 [==============================] - 0s 17us/step - loss: 0.7524 - accuracy: 0.7513 - val_loss: 0.9309 - val_accuracy: 0.6550\n",
      "Epoch 20/20\n",
      "800/800 [==============================] - 0s 18us/step - loss: 0.7082 - accuracy: 0.7575 - val_loss: 0.9024 - val_accuracy: 0.6500\n"
     ]
    }
   ],
   "source": [
    "history = model.fit(x_train, y_train, epochs=20, batch_size=128, validation_data=(x_test, y_test))"
   ]
  },
  {
   "cell_type": "code",
   "execution_count": 12,
   "metadata": {},
   "outputs": [
    {
     "name": "stdout",
     "output_type": "stream",
     "text": [
      "200/200 [==============================] - 0s 25us/step\n"
     ]
    }
   ],
   "source": [
    "results = model.evaluate(x_test, y_test)"
   ]
  },
  {
   "cell_type": "code",
   "execution_count": 13,
   "metadata": {},
   "outputs": [
    {
     "data": {
      "image/png": "[encoded data removed]",
      "text/plain": [
       "<Figure size 432x288 with 1 Axes>"
      ]
     },
     "metadata": {
      "needs_background": "light"
     },
     "output_type": "display_data"
    }
   ],
   "source": [
    "# summarize history for accuracy\n",
    "plt.plot(history.history['accuracy'])\n",
    "plt.plot(history.history['val_accuracy'])\n",
    "plt.title('model accuracy')\n",
    "plt.ylabel('accuracy')\n",
    "plt.xlabel('epoch')\n",
    "plt.legend(['train', 'validation'], loc='upper left')\n",
    "plt.show()"
   ]
  },
  {
   "cell_type": "code",
   "execution_count": 14,
   "metadata": {},
   "outputs": [
    {
     "data": {
      "image/png": "[encoded data removed]",
      "text/plain": [
       "<Figure size 432x288 with 1 Axes>"
      ]
     },
     "metadata": {
      "needs_background": "light"
     },
     "output_type": "display_data"
    }
   ],
   "source": [
    "# summarize history for loss\n",
    "plt.plot(history.history['loss'])\n",
    "plt.plot(history.history['val_loss'])\n",
    "plt.title('model loss')\n",
    "plt.ylabel('loss')\n",
    "plt.xlabel('epoch')\n",
    "plt.legend(['train', 'validation'], loc='upper left')\n",
    "plt.show()"
   ]
  },
  {
   "cell_type": "code",
   "execution_count": 15,
   "metadata": {},
   "outputs": [
    {
     "data": {
      "text/plain": [
       "[0.9024174880981445, 0.6499999761581421]"
      ]
     },
     "execution_count": 15,
     "metadata": {},
     "output_type": "execute_result"
    }
   ],
   "source": [
    "results"
   ]
  },
  {
   "cell_type": "code",
   "execution_count": 16,
   "metadata": {},
   "outputs": [
    {
     "data": {
      "text/plain": [
       "6"
      ]
     },
     "execution_count": 16,
     "metadata": {},
     "output_type": "execute_result"
    }
   ],
   "source": [
    "predictions = model.predict(x_test)\n",
    "np.argmax(predictions[0])"
   ]
  },
  {
   "cell_type": "code",
   "execution_count": 17,
   "metadata": {},
   "outputs": [
    {
     "data": {
      "text/plain": [
       "600"
      ]
     },
     "execution_count": 17,
     "metadata": {},
     "output_type": "execute_result"
    }
   ],
   "source": [
    "x_val = x_train[:200]\n",
    "partial_x_train = x_train[200:]\n",
    "\n",
    "y_val = y_train[:200]\n",
    "partial_y_train = y_train[200:]\n",
    "\n",
    "len(partial_y_train)"
   ]
  },
  {
   "cell_type": "code",
   "execution_count": 18,
   "metadata": {},
   "outputs": [
    {
     "name": "stdout",
     "output_type": "stream",
     "text": [
      "Train on 600 samples, validate on 200 samples\n",
      "Epoch 1/30\n",
      "600/600 [==============================] - 0s 201us/step - loss: 2.3009 - accuracy: 0.1550 - val_loss: 2.1924 - val_accuracy: 0.3150\n",
      "Epoch 2/30\n",
      "600/600 [==============================] - 0s 17us/step - loss: 2.1153 - accuracy: 0.3600 - val_loss: 2.0829 - val_accuracy: 0.3500\n",
      "Epoch 3/30\n",
      "600/600 [==============================] - 0s 19us/step - loss: 1.9772 - accuracy: 0.3950 - val_loss: 1.9656 - val_accuracy: 0.3700\n",
      "Epoch 4/30\n",
      "600/600 [==============================] - 0s 19us/step - loss: 1.8457 - accuracy: 0.4050 - val_loss: 1.8386 - val_accuracy: 0.3950\n",
      "Epoch 5/30\n",
      "600/600 [==============================] - 0s 18us/step - loss: 1.7121 - accuracy: 0.4333 - val_loss: 1.7130 - val_accuracy: 0.4100\n",
      "Epoch 6/30\n",
      "600/600 [==============================] - 0s 18us/step - loss: 1.5778 - accuracy: 0.4867 - val_loss: 1.5990 - val_accuracy: 0.4300\n",
      "Epoch 7/30\n",
      "600/600 [==============================] - 0s 21us/step - loss: 1.4530 - accuracy: 0.5417 - val_loss: 1.5142 - val_accuracy: 0.4550\n",
      "Epoch 8/30\n",
      "600/600 [==============================] - 0s 18us/step - loss: 1.3477 - accuracy: 0.5833 - val_loss: 1.4580 - val_accuracy: 0.4600\n",
      "Epoch 9/30\n",
      "600/600 [==============================] - 0s 18us/step - loss: 1.2547 - accuracy: 0.6083 - val_loss: 1.4133 - val_accuracy: 0.4700\n",
      "Epoch 10/30\n",
      "600/600 [==============================] - 0s 18us/step - loss: 1.1725 - accuracy: 0.6150 - val_loss: 1.3663 - val_accuracy: 0.4850\n",
      "Epoch 11/30\n",
      "600/600 [==============================] - 0s 16us/step - loss: 1.1115 - accuracy: 0.6283 - val_loss: 1.3218 - val_accuracy: 0.5050\n",
      "Epoch 12/30\n",
      "600/600 [==============================] - 0s 18us/step - loss: 1.0423 - accuracy: 0.6550 - val_loss: 1.2768 - val_accuracy: 0.5250\n",
      "Epoch 13/30\n",
      "600/600 [==============================] - 0s 18us/step - loss: 0.9818 - accuracy: 0.6817 - val_loss: 1.2429 - val_accuracy: 0.5400\n",
      "Epoch 14/30\n",
      "600/600 [==============================] - 0s 17us/step - loss: 0.9373 - accuracy: 0.7083 - val_loss: 1.2710 - val_accuracy: 0.5250\n",
      "Epoch 15/30\n",
      "600/600 [==============================] - 0s 19us/step - loss: 0.9164 - accuracy: 0.6983 - val_loss: 1.2359 - val_accuracy: 0.5300\n",
      "Epoch 16/30\n",
      "600/600 [==============================] - 0s 18us/step - loss: 0.8506 - accuracy: 0.7267 - val_loss: 1.2318 - val_accuracy: 0.5600\n",
      "Epoch 17/30\n",
      "600/600 [==============================] - 0s 18us/step - loss: 0.8144 - accuracy: 0.7300 - val_loss: 1.1921 - val_accuracy: 0.5700\n",
      "Epoch 18/30\n",
      "600/600 [==============================] - 0s 17us/step - loss: 0.7771 - accuracy: 0.7450 - val_loss: 1.2102 - val_accuracy: 0.5750\n",
      "Epoch 19/30\n",
      "600/600 [==============================] - 0s 17us/step - loss: 0.7598 - accuracy: 0.7583 - val_loss: 1.1946 - val_accuracy: 0.5750\n",
      "Epoch 20/30\n",
      "600/600 [==============================] - 0s 18us/step - loss: 0.7115 - accuracy: 0.7800 - val_loss: 1.1957 - val_accuracy: 0.5850\n",
      "Epoch 21/30\n",
      "600/600 [==============================] - 0s 18us/step - loss: 0.6869 - accuracy: 0.7817 - val_loss: 1.2165 - val_accuracy: 0.5750\n",
      "Epoch 22/30\n",
      "600/600 [==============================] - 0s 18us/step - loss: 0.6653 - accuracy: 0.7750 - val_loss: 1.2042 - val_accuracy: 0.5750\n",
      "Epoch 23/30\n",
      "600/600 [==============================] - 0s 17us/step - loss: 0.6386 - accuracy: 0.7933 - val_loss: 1.1771 - val_accuracy: 0.5800\n",
      "Epoch 24/30\n",
      "600/600 [==============================] - 0s 19us/step - loss: 0.6204 - accuracy: 0.7933 - val_loss: 1.1934 - val_accuracy: 0.6200\n",
      "Epoch 25/30\n",
      "600/600 [==============================] - 0s 18us/step - loss: 0.5990 - accuracy: 0.8167 - val_loss: 1.2375 - val_accuracy: 0.6050\n",
      "Epoch 26/30\n",
      "600/600 [==============================] - 0s 19us/step - loss: 0.5818 - accuracy: 0.8083 - val_loss: 1.1812 - val_accuracy: 0.6250\n",
      "Epoch 27/30\n",
      "600/600 [==============================] - 0s 18us/step - loss: 0.5552 - accuracy: 0.8183 - val_loss: 1.2009 - val_accuracy: 0.6050\n",
      "Epoch 28/30\n",
      "600/600 [==============================] - 0s 20us/step - loss: 0.5592 - accuracy: 0.8217 - val_loss: 1.2138 - val_accuracy: 0.5900\n",
      "Epoch 29/30\n",
      "600/600 [==============================] - 0s 19us/step - loss: 0.5099 - accuracy: 0.8383 - val_loss: 1.2312 - val_accuracy: 0.6000\n",
      "Epoch 30/30\n",
      "600/600 [==============================] - 0s 19us/step - loss: 0.4846 - accuracy: 0.8517 - val_loss: 1.2120 - val_accuracy: 0.6050\n"
     ]
    },
    {
     "data": {
      "text/plain": [
       "<keras.callbacks.callbacks.History at 0x1d7607f0d08>"
      ]
     },
     "execution_count": 18,
     "metadata": {},
     "output_type": "execute_result"
    }
   ],
   "source": [
    "model = models.Sequential()\n",
    "model.add(layers.Dense(512, activation='relu', input_shape=(x_train.shape[1],)))\n",
    "model.add(layers.Dense(256, activation='relu'))\n",
    "model.add(layers.Dense(128, activation='relu'))\n",
    "model.add(layers.Dense(64, activation='relu'))\n",
    "model.add(layers.Dense(10, activation='softmax'))\n",
    "\n",
    "model.compile(optimizer='adam',\n",
    "              loss='sparse_categorical_crossentropy',\n",
    "              metrics=['accuracy'])\n",
    "\n",
    "model.fit(partial_x_train,\n",
    "          partial_y_train,\n",
    "          epochs=30,\n",
    "          batch_size=512,\n",
    "          validation_data=(x_val, y_val))"
   ]
  },
  {
   "cell_type": "code",
   "execution_count": 20,
   "metadata": {},
   "outputs": [
    {
     "data": {
      "image/png": "[encoded data removed]",
      "text/plain": [
       "<Figure size 432x288 with 1 Axes>"
      ]
     },
     "metadata": {
      "needs_background": "light"
     },
     "output_type": "display_data"
    }
   ],
   "source": [
    "# summarize history for accuracy\n",
    "plt.plot(history.history['accuracy'])\n",
    "plt.plot(history.history['val_accuracy'])\n",
    "plt.title('model accuracy')\n",
    "plt.ylabel('accuracy')\n",
    "plt.xlabel('epoch')\n",
    "plt.legend(['train', 'validation'], loc='upper left')\n",
    "plt.show()"
   ]
  },
  {
   "cell_type": "code",
   "execution_count": 21,
   "metadata": {},
   "outputs": [
    {
     "data": {
      "image/png": "[encoded data removed]",
      "text/plain": [
       "<Figure size 432x288 with 1 Axes>"
      ]
     },
     "metadata": {
      "needs_background": "light"
     },
     "output_type": "display_data"
    }
   ],
   "source": [
    "# summarize history for loss\n",
    "plt.plot(history.history['loss'])\n",
    "plt.plot(history.history['val_loss'])\n",
    "plt.title('model loss')\n",
    "plt.ylabel('loss')\n",
    "plt.xlabel('epoch')\n",
    "plt.legend(['train', 'validation'], loc='upper left')\n",
    "plt.show()"
   ]
  },
  {
   "cell_type": "code",
   "execution_count": 22,
   "metadata": {},
   "outputs": [
    {
     "name": "stdout",
     "output_type": "stream",
     "text": [
      "200/200 [==============================] - 0s 30us/step\n"
     ]
    }
   ],
   "source": [
    "results = model.evaluate(x_test, y_test)"
   ]
  },
  {
   "cell_type": "code",
   "execution_count": 23,
   "metadata": {},
   "outputs": [
    {
     "data": {
      "text/plain": [
       "[1.0447509098052978, 0.6299999952316284]"
      ]
     },
     "execution_count": 23,
     "metadata": {},
     "output_type": "execute_result"
    }
   ],
   "source": [
    "results"
   ]
  }
 ],
 "metadata": {
  "kernelspec": {
   "display_name": "Python 3",
   "language": "python",
   "name": "python3"
  },
  "language_info": {
   "codemirror_mode": {
    "name": "ipython",
    "version": 3
   },
   "file_extension": ".py",
   "mimetype": "text/x-python",
   "name": "python",
   "nbconvert_exporter": "python",
   "pygments_lexer": "ipython3",
   "version": "3.7.6"
  }
 },
 "nbformat": 4,
 "nbformat_minor": 2
}
